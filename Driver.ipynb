{
 "cells": [
  {
   "cell_type": "code",
   "execution_count": 1,
   "metadata": {},
   "outputs": [],
   "source": [
    "%load_ext autoreload\n",
    "%autoreload 2"
   ]
  },
  {
   "cell_type": "code",
   "execution_count": 3,
   "metadata": {},
   "outputs": [],
   "source": [
    "from input_parser import InputParser"
   ]
  },
  {
   "cell_type": "code",
   "execution_count": 14,
   "metadata": {},
   "outputs": [],
   "source": [
    "parser = InputParser(\"\"\"\n",
    "\n",
    ".LOGIC\n",
    "\n",
    "q0] SCAN (0,q0), (1,q1), (1,accept)\n",
    "q1] SCAN (0,q0), (1,q2)\n",
    "q2] SCAN (0,q0), (1,q1), (1,accept)\n",
    "\n",
    "\"\"\")"
   ]
  },
  {
   "cell_type": "code",
   "execution_count": 15,
   "metadata": {},
   "outputs": [
    {
     "name": "stdout",
     "output_type": "stream",
     "text": [
      ".LOGIC\n",
      "q0] SCAN (0,q0), (1,q1), (1,accept)\n",
      "q1] SCAN (0,q0), (1,q2)\n",
      "q2] SCAN (0,q0), (1,q1), (1,accept)\n"
     ]
    }
   ],
   "source": [
    "parser.check_syntax()"
   ]
  },
  {
   "cell_type": "code",
   "execution_count": null,
   "metadata": {},
   "outputs": [],
   "source": []
  }
 ],
 "metadata": {
  "kernelspec": {
   "display_name": "csc615m-mp",
   "language": "python",
   "name": "python3"
  },
  "language_info": {
   "codemirror_mode": {
    "name": "ipython",
    "version": 3
   },
   "file_extension": ".py",
   "mimetype": "text/x-python",
   "name": "python",
   "nbconvert_exporter": "python",
   "pygments_lexer": "ipython3",
   "version": "3.9.16"
  },
  "orig_nbformat": 4,
  "vscode": {
   "interpreter": {
    "hash": "9038fba32dea979506a53bb2fb3a70ca0ebec3afb26d535eafa2910d4e4e2246"
   }
  }
 },
 "nbformat": 4,
 "nbformat_minor": 2
}
